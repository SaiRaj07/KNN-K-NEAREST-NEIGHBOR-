{
 "cells": [
  {
   "cell_type": "code",
   "execution_count": null,
   "metadata": {
    "collapsed": true
   },
   "outputs": [],
   "source": [
    "#KNN Algorithm\n",
    "#OBJECTIVE : LETTER RECOGNITION USING K-Nearest Neigbour (CONDENSED KNN)"
   ]
  },
  {
   "cell_type": "code",
   "execution_count": 1,
   "metadata": {
    "collapsed": true
   },
   "outputs": [],
   "source": [
    "#Importing the libraries\n",
    "import pandas as pd\n",
    "from sklearn.neighbors import KNeighborsClassifier\n",
    "from sklearn.model_selection import train_test_split\n",
    "from sklearn.metrics import accuracy_score\n",
    "from sklearn.metrics import confusion_matrix\n",
    "from sklearn.metrics import classification_report\n",
    "import time\n",
    "from imblearn.under_sampling import CondensedNearestNeighbour"
   ]
  },
  {
   "cell_type": "code",
   "execution_count": 2,
   "metadata": {
    "collapsed": true
   },
   "outputs": [],
   "source": [
    "#Importing the dataset\n",
    "dataset=pd.read_csv('letter-recognitiondata.csv',header=None)\n",
    "X=dataset.iloc[:,1:17].values\n",
    "Y=dataset.iloc[:,0]"
   ]
  },
  {
   "cell_type": "code",
   "execution_count": 3,
   "metadata": {
    "collapsed": true
   },
   "outputs": [],
   "source": [
    "#Splitting the Data and Rescaling\n",
    "X_train, X_test, y_train, y_test = train_test_split(X, Y, test_size=0.35, random_state=42)\n",
    "X_train = X_train.astype('float32')\n",
    "X_test = X_test.astype('float32')\n",
    "X_train /= 16\n",
    "X_test /= 16"
   ]
  },
  {
   "cell_type": "code",
   "execution_count": 7,
   "metadata": {},
   "outputs": [
    {
     "name": "stdout",
     "output_type": "stream",
     "text": [
      "2.42 µs ± 252 ns per loop (mean ± std. dev. of 7 runs, 100000 loops each)\n"
     ]
    }
   ],
   "source": [
    "#Condensing the data\n",
    "%timeit cnn = CondensedNearestNeighbour(random_state=42) \n",
    "X_train,y_train= cnn.fit_sample(X_train, y_train)"
   ]
  },
  {
   "cell_type": "code",
   "execution_count": 8,
   "metadata": {},
   "outputs": [
    {
     "name": "stdout",
     "output_type": "stream",
     "text": [
      "Accuracy for k = 1 is 81%\n",
      "Accuracy for k = 3 is 61%\n",
      "Accuracy for k = 5 is 56%\n",
      "Accuracy for k = 7 is 50%\n",
      "Accuracy for k = 9 is 44%\n",
      "Accuracy for k = 11 is 40%\n",
      "Accuracy for k = 13 is 36%\n",
      "Accuracy for k = 15 is 33%\n",
      "Accuracy for k = 17 is 30%\n",
      "Accuracy for k = 19 is 28%\n"
     ]
    }
   ],
   "source": [
    "#Building the model\n",
    "for x in range(1,20,2):\n",
    "    knn = KNeighborsClassifier(n_neighbors=x,algorithm='auto',metric='euclidean',p=0,weights='uniform',leaf_size=20)\n",
    "    knn.fit(X_train, y_train)\n",
    "    pred = knn.predict(X_test)\n",
    "    a=accuracy_score(y_test, pred,normalize=True)* float(100)\n",
    "    print('Accuracy for k = %d is %d%%' % (x, a)) \n",
    "    "
   ]
  },
  {
   "cell_type": "code",
   "execution_count": 28,
   "metadata": {},
   "outputs": [
    {
     "name": "stdout",
     "output_type": "stream",
     "text": [
      "137 ms ± 576 µs per loop (mean ± std. dev. of 7 runs, 10 loops each)\n"
     ]
    }
   ],
   "source": [
    "#Timing for condense KNN\n",
    "knn = KNeighborsClassifier(n_neighbors=1,algorithm='auto',metric='euclidean',p=0,weights='uniform',leaf_size=20)\n",
    "knn.fit(X_train, y_train)\n",
    "%timeit pred = knn.predict(X_test)"
   ]
  },
  {
   "cell_type": "code",
   "execution_count": 27,
   "metadata": {},
   "outputs": [
    {
     "name": "stdout",
     "output_type": "stream",
     "text": [
      "75.68\n"
     ]
    }
   ],
   "source": [
    "#Accuracy,Confusion matrix,Classification report\n",
    "a=accuracy_score(y_test, pred,normalize=True)* float(100)\n",
    "conf_mat = confusion_matrix(y_test, pred)\n",
    "report = classification_report(y_test, pred)\n",
    "print(a)"
   ]
  }
 ],
 "metadata": {
  "kernelspec": {
   "display_name": "Python 3",
   "language": "python",
   "name": "python3"
  },
  "language_info": {
   "codemirror_mode": {
    "name": "ipython",
    "version": 3
   },
   "file_extension": ".py",
   "mimetype": "text/x-python",
   "name": "python",
   "nbconvert_exporter": "python",
   "pygments_lexer": "ipython3",
   "version": "3.6.2"
  }
 },
 "nbformat": 4,
 "nbformat_minor": 2
}
