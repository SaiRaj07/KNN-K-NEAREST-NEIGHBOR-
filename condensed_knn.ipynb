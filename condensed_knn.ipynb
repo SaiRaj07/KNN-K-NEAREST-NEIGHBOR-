{
 "cells": [
  {
   "cell_type": "code",
   "execution_count": null,
   "metadata": {
    "collapsed": true
   },
   "outputs": [],
   "source": [
    "#KNN Algorithm\n",
    "#OBJECTIVE : LETTER RECOGNITION USING K-Nearest Neigbour (CONDENSED KNN)"
   ]
  },
  {
   "cell_type": "code",
   "execution_count": 1,
   "metadata": {
    "collapsed": true
   },
   "outputs": [],
   "source": [
    "#Importing the libraries\n",
    "import pandas as pd\n",
    "from sklearn.neighbors import KNeighborsClassifier\n",
    "from sklearn.model_selection import train_test_split\n",
    "from sklearn.metrics import accuracy_score\n",
    "from sklearn.metrics import confusion_matrix\n",
    "from sklearn.metrics import classification_report\n",
    "import time\n",
    "from imblearn.under_sampling import CondensedNearestNeighbour"
   ]
  },
  {
   "cell_type": "code",
   "execution_count": 2,
   "metadata": {
    "collapsed": true
   },
   "outputs": [],
   "source": [
    "#Importing the dataset\n",
    "dataset=pd.read_csv('letter-recognitiondata.csv',header=None)\n",
    "X=dataset.iloc[:,1:17].values\n",
    "Y=dataset.iloc[:,0]"
   ]
  },
  {
   "cell_type": "code",
   "execution_count": 3,
   "metadata": {
    "collapsed": true
   },
   "outputs": [],
   "source": [
    "#Splitting the Data and Rescaling\n",
    "X_train, X_test, y_train, y_test = train_test_split(X, Y, test_size=0.30, random_state=42)\n",
    "X_tr, X_cv, y_tr, y_cv = train_test_split(X_train, y_train, test_size=0.20)"
   ]
  },
  {
   "cell_type": "code",
   "execution_count": 4,
   "metadata": {},
   "outputs": [],
   "source": [
    "#Condensing the data\n",
    "cnn = CondensedNearestNeighbour(random_state=42) \n",
    "X_tr,y_tr= cnn.fit_sample(X_tr, y_tr)"
   ]
  },
  {
   "cell_type": "code",
   "execution_count": 5,
   "metadata": {},
   "outputs": [
    {
     "name": "stdout",
     "output_type": "stream",
     "text": [
      "Accuracy for k = 1 is 81%\n",
      "Accuracy for k = 3 is 61%\n",
      "Accuracy for k = 5 is 57%\n",
      "Accuracy for k = 7 is 52%\n",
      "Accuracy for k = 9 is 47%\n",
      "Accuracy for k = 11 is 42%\n",
      "Accuracy for k = 13 is 38%\n",
      "Accuracy for k = 15 is 34%\n",
      "Accuracy for k = 17 is 31%\n",
      "Accuracy for k = 19 is 29%\n"
     ]
    }
   ],
   "source": [
    "#Building the model\n",
    "for x in range(1,20,2):\n",
    "    knn = KNeighborsClassifier(n_neighbors=x,algorithm='auto',metric='euclidean',p=0,weights='uniform',leaf_size=20)\n",
    "    knn.fit(X_tr, y_tr)\n",
    "    pred = knn.predict(X_cv)\n",
    "    a=accuracy_score(y_cv, pred,normalize=True)* float(100)\n",
    "    print('Accuracy for k = %d is %d%%' % (x, a)) \n",
    "    "
   ]
  },
  {
   "cell_type": "code",
   "execution_count": 6,
   "metadata": {},
   "outputs": [
    {
     "name": "stdout",
     "output_type": "stream",
     "text": [
      "80.83333333333333\n"
     ]
    }
   ],
   "source": [
    "#Timing for condense KNN\n",
    "knn = KNeighborsClassifier(n_neighbors=1,algorithm='auto',metric='euclidean',p=0,weights='uniform',leaf_size=20)\n",
    "knn.fit(X_tr, y_tr)\n",
    "pred = knn.predict(X_test)\n",
    "a=accuracy_score(y_test, pred,normalize=True)* float(100)\n",
    "report = classification_report(y_test, pred)\n",
    "print(a)"
   ]
  }
 ],
 "metadata": {
  "kernelspec": {
   "display_name": "Python 3",
   "language": "python",
   "name": "python3"
  },
  "language_info": {
   "codemirror_mode": {
    "name": "ipython",
    "version": 3
   },
   "file_extension": ".py",
   "mimetype": "text/x-python",
   "name": "python",
   "nbconvert_exporter": "python",
   "pygments_lexer": "ipython3",
   "version": "3.6.2"
  }
 },
 "nbformat": 4,
 "nbformat_minor": 2
}
