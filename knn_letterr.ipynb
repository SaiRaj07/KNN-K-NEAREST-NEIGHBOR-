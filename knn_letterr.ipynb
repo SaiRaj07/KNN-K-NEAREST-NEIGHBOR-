{
 "cells": [
  {
   "cell_type": "code",
   "execution_count": null,
   "metadata": {
    "collapsed": true
   },
   "outputs": [],
   "source": [
    "#KNN Algorithm\n",
    "#OBJECTIVE : LETTER RECOGNITION USING K-Nearest Neigbour"
   ]
  },
  {
   "cell_type": "code",
   "execution_count": 1,
   "metadata": {
    "collapsed": true
   },
   "outputs": [],
   "source": [
    "#Importing the libraries\n",
    "import pandas as pd\n",
    "from sklearn.neighbors import KNeighborsClassifier\n",
    "from sklearn.model_selection import train_test_split\n",
    "from sklearn.metrics import accuracy_score\n",
    "from sklearn.metrics import confusion_matrix\n",
    "from sklearn.metrics import classification_report\n",
    "from sklearn.model_selection import cross_val_score\n",
    "from sklearn.metrics import roc_auc_score\n",
    "import matplotlib.pyplot as plt\n",
    "import numpy as np\n",
    "import time "
   ]
  },
  {
   "cell_type": "code",
   "execution_count": 2,
   "metadata": {
    "collapsed": true
   },
   "outputs": [],
   "source": [
    "#Importing the dataset\n",
    "dataset=pd.read_csv('letter-recognitiondata.csv',header=None)\n",
    "X=dataset.iloc[:,1:17].values\n",
    "Y=dataset.iloc[:,0]"
   ]
  },
  {
   "cell_type": "code",
   "execution_count": 3,
   "metadata": {},
   "outputs": [],
   "source": [
    "#Splitting the Data and Rescaling\n",
    "X_train, X_test, y_train, y_test = train_test_split(X, Y, test_size=0.30)\n",
    "X_tr, X_cv, y_tr, y_cv = train_test_split(X_train, y_train, test_size=0.20)"
   ]
  },
  {
   "cell_type": "code",
   "execution_count": 4,
   "metadata": {},
   "outputs": [
    {
     "name": "stdout",
     "output_type": "stream",
     "text": [
      "(11200, 16)\n",
      "(11200,)\n"
     ]
    }
   ],
   "source": [
    "print(X_tr.shape)\n",
    "print(y_tr.shape)"
   ]
  },
  {
   "cell_type": "code",
   "execution_count": 5,
   "metadata": {},
   "outputs": [
    {
     "name": "stdout",
     "output_type": "stream",
     "text": [
      "\n",
      "CV accuracy for k = 1 is 94%\n",
      "\n",
      "CV accuracy for k = 3 is 94%\n",
      "\n",
      "CV accuracy for k = 5 is 93%\n",
      "\n",
      "CV accuracy for k = 7 is 93%\n",
      "\n",
      "CV accuracy for k = 9 is 93%\n",
      "\n",
      "CV accuracy for k = 11 is 93%\n",
      "\n",
      "CV accuracy for k = 13 is 92%\n",
      "\n",
      "CV accuracy for k = 15 is 92%\n",
      "\n",
      "CV accuracy for k = 17 is 91%\n",
      "\n",
      "CV accuracy for k = 19 is 91%\n"
     ]
    }
   ],
   "source": [
    "#Building the model\n",
    "for m in range(1,20,2):\n",
    "    knn = KNeighborsClassifier(n_neighbors=m,algorithm='kd_tree',metric='euclidean',p=0,weights='uniform',leaf_size=20)\n",
    "    knn.fit(X_tr, y_tr)\n",
    "    pred = knn.predict(X_cv)\n",
    "    a=accuracy_score(y_cv, pred,normalize=True)* float(100)\n",
    "    print('\\nCV accuracy for k = %d is %d%%' % (m, a)) "
   ]
  },
  {
   "cell_type": "code",
   "execution_count": 6,
   "metadata": {},
   "outputs": [
    {
     "name": "stdout",
     "output_type": "stream",
     "text": [
      "The accuracy of the model is : 93.48333333333333\n"
     ]
    }
   ],
   "source": [
    "#Evaluation on Test set\n",
    "knn = KNeighborsClassifier(n_neighbors=3,algorithm='kd_tree',metric='euclidean',p=0,weights='uniform',leaf_size=20)\n",
    "knn.fit(X_tr, y_tr)\n",
    "pred = knn.predict(X_test)\n",
    "a=accuracy_score(y_test, pred,normalize=True)* float(100)\n",
    "print('The accuracy of the model is :',a)"
   ]
  },
  {
   "cell_type": "code",
   "execution_count": 7,
   "metadata": {
    "collapsed": true
   },
   "outputs": [],
   "source": [
    "#Cross Validation\n",
    "k_range = list(range(0,20))\n",
    "k_values = list(filter(lambda x: x % 2 != 0, k_range))\n",
    "cv_scores = []\n",
    "for k in k_values:\n",
    "    knn = KNeighborsClassifier(n_neighbors=k,algorithm='kd_tree',metric='euclidean',p=0,weights='uniform',leaf_size=20)\n",
    "    scores = cross_val_score(knn, X_train, y_train, cv=20, scoring='accuracy')\n",
    "    cv_scores.append(scores.mean())"
   ]
  },
  {
   "cell_type": "code",
   "execution_count": 8,
   "metadata": {},
   "outputs": [
    {
     "name": "stdout",
     "output_type": "stream",
     "text": [
      "[0.953546121852661, 0.9462548025233664, 0.9463251082209657, 0.9431951728442518, 0.9394507656089426, 0.9358353615083084, 0.9323312269743272, 0.9296076544422975, 0.9268349550925498, 0.921620755135028]\n"
     ]
    }
   ],
   "source": [
    "print(cv_scores)"
   ]
  },
  {
   "cell_type": "code",
   "execution_count": 9,
   "metadata": {},
   "outputs": [
    {
     "name": "stdout",
     "output_type": "stream",
     "text": [
      "1\n"
     ]
    }
   ],
   "source": [
    "# Misclassification and Determining best k\n",
    "Mean_square_error = [1 - x for x in cv_scores]\n",
    "optimal_k = k_values[Mean_square_error.index(min(Mean_square_error))]\n",
    "print(optimal_k)"
   ]
  },
  {
   "cell_type": "code",
   "execution_count": 10,
   "metadata": {},
   "outputs": [
    {
     "name": "stdout",
     "output_type": "stream",
     "text": [
      "The accuracy of the model is : 95.11666666666667\n"
     ]
    }
   ],
   "source": [
    "#Building model with optimum k\n",
    "knn_optimal = KNeighborsClassifier(n_neighbors=optimal_k,algorithm='kd_tree',metric='euclidean',p=0,weights='uniform',leaf_size=20)\n",
    "knn_optimal.fit(X_train, y_train)\n",
    "pred = knn_optimal.predict(X_test)\n",
    "a=accuracy_score(y_test, pred,normalize=True)* float(100)\n",
    "print('The accuracy of the model is :',a)"
   ]
  },
  {
   "cell_type": "code",
   "execution_count": 11,
   "metadata": {},
   "outputs": [
    {
     "name": "stdout",
     "output_type": "stream",
     "text": [
      "\n",
      "The accuracy of the knn classifier for k = 1 is 95.116667%\n"
     ]
    }
   ],
   "source": [
    "#Accuracy,Confusion matrix,Classification report\n",
    "acc=accuracy_score(y_test, pred,normalize=True)* float(100)\n",
    "conf_mat = confusion_matrix(y_test, pred)\n",
    "report = classification_report(y_test, pred)\n",
    "print('\\nThe accuracy of the knn classifier for k = %d is %f%%' % (optimal_k, acc))"
   ]
  },
  {
   "cell_type": "code",
   "execution_count": null,
   "metadata": {
    "collapsed": true
   },
   "outputs": [],
   "source": []
  }
 ],
 "metadata": {
  "kernelspec": {
   "display_name": "Python 3",
   "language": "python",
   "name": "python3"
  },
  "language_info": {
   "codemirror_mode": {
    "name": "ipython",
    "version": 3
   },
   "file_extension": ".py",
   "mimetype": "text/x-python",
   "name": "python",
   "nbconvert_exporter": "python",
   "pygments_lexer": "ipython3",
   "version": "3.6.2"
  }
 },
 "nbformat": 4,
 "nbformat_minor": 2
}
