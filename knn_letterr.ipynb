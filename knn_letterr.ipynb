{
 "cells": [
  {
   "cell_type": "code",
   "execution_count": null,
   "metadata": {
    "collapsed": true
   },
   "outputs": [],
   "source": [
    "#KNN Algorithm\n",
    "#OBJECTIVE : LETTER RECOGNITION USING K-Nearest Neigbour"
   ]
  },
  {
   "cell_type": "code",
   "execution_count": 62,
   "metadata": {
    "collapsed": true
   },
   "outputs": [],
   "source": [
    "#Importing the libraries\n",
    "import pandas as pd\n",
    "from sklearn.neighbors import KNeighborsClassifier\n",
    "from sklearn.model_selection import train_test_split\n",
    "from sklearn.metrics import accuracy_score\n",
    "from sklearn.metrics import confusion_matrix\n",
    "from sklearn.metrics import classification_report\n",
    "from sklearn.model_selection import cross_val_score\n",
    "from sklearn.metrics import roc_auc_score\n",
    "import matplotlib.pyplot as plt\n",
    "import numpy as np\n",
    "import time "
   ]
  },
  {
   "cell_type": "code",
   "execution_count": 63,
   "metadata": {
    "collapsed": true
   },
   "outputs": [],
   "source": [
    "#Importing the dataset\n",
    "dataset=pd.read_csv('letter-recognitiondata.csv',header=None)\n",
    "X=dataset.iloc[:,1:17].values\n",
    "Y=dataset.iloc[:,0]"
   ]
  },
  {
   "cell_type": "code",
   "execution_count": 64,
   "metadata": {
    "collapsed": true
   },
   "outputs": [],
   "source": [
    "#Splitting the Data and Rescaling\n",
    "X_train, X_test, y_train, y_test = train_test_split(X, Y, test_size=0.40)\n",
    "X_train = X_train.astype('float32')\n",
    "X_test = X_test.astype('float32')\n",
    "X_train /= 16\n",
    "X_test /= 16"
   ]
  },
  {
   "cell_type": "code",
   "execution_count": 65,
   "metadata": {},
   "outputs": [
    {
     "name": "stdout",
     "output_type": "stream",
     "text": [
      "\n",
      "CV accuracy for k = 1 is 94%\n",
      "\n",
      "CV accuracy for k = 3 is 94%\n",
      "\n",
      "CV accuracy for k = 5 is 94%\n",
      "\n",
      "CV accuracy for k = 7 is 93%\n",
      "\n",
      "CV accuracy for k = 9 is 93%\n",
      "\n",
      "CV accuracy for k = 11 is 93%\n",
      "\n",
      "CV accuracy for k = 13 is 92%\n",
      "\n",
      "CV accuracy for k = 15 is 92%\n",
      "\n",
      "CV accuracy for k = 17 is 92%\n",
      "\n",
      "CV accuracy for k = 19 is 91%\n"
     ]
    }
   ],
   "source": [
    "#Building the model\n",
    "for m in range(1,20,2):\n",
    "    knn = KNeighborsClassifier(n_neighbors=m,algorithm='kd_tree',metric='euclidean',p=0,weights='uniform',leaf_size=20)\n",
    "    knn.fit(X_train, y_train)\n",
    "    pred = knn.predict(X_test)\n",
    "    a=accuracy_score(y_test, pred,normalize=True)* float(100)\n",
    "    print('\\nCV accuracy for k = %d is %d%%' % (m, a)) "
   ]
  },
  {
   "cell_type": "code",
   "execution_count": 66,
   "metadata": {},
   "outputs": [
    {
     "name": "stdout",
     "output_type": "stream",
     "text": [
      "582 ms ± 2.4 ms per loop (mean ± std. dev. of 7 runs, 1 loop each)\n",
      "859 ms ± 4 ms per loop (mean ± std. dev. of 7 runs, 1 loop each)\n",
      "1.01 s ± 1.71 ms per loop (mean ± std. dev. of 7 runs, 1 loop each)\n",
      "1.14 s ± 2.15 ms per loop (mean ± std. dev. of 7 runs, 1 loop each)\n",
      "1.24 s ± 1.29 ms per loop (mean ± std. dev. of 7 runs, 1 loop each)\n",
      "1.61 s ± 390 ms per loop (mean ± std. dev. of 7 runs, 1 loop each)\n",
      "4.29 s ± 1.28 s per loop (mean ± std. dev. of 7 runs, 1 loop each)\n",
      "3.04 s ± 494 ms per loop (mean ± std. dev. of 7 runs, 1 loop each)\n",
      "2.03 s ± 176 ms per loop (mean ± std. dev. of 7 runs, 1 loop each)\n",
      "1.68 s ± 35.6 ms per loop (mean ± std. dev. of 7 runs, 1 loop each)\n"
     ]
    }
   ],
   "source": [
    "#Execution Time for different K \n",
    "for x in range(1,20,2):\n",
    "    knn = KNeighborsClassifier(n_neighbors=x,algorithm='kd_tree',metric='euclidean',p=0,weights='uniform',leaf_size=20)\n",
    "    knn.fit(X_train, y_train)\n",
    "    %timeit pred=knn.predict(X_test)"
   ]
  },
  {
   "cell_type": "code",
   "execution_count": 67,
   "metadata": {
    "collapsed": true
   },
   "outputs": [],
   "source": [
    "#Cross Validation\n",
    "k_range = list(range(0,20))\n",
    "k_values = list(filter(lambda x: x % 2 != 0, k_range))\n",
    "cv_scores = []\n",
    "for k in k_values:\n",
    "    knn = KNeighborsClassifier(n_neighbors=k,algorithm='kd_tree',metric='euclidean',p=0,weights='uniform',leaf_size=20)\n",
    "    scores = cross_val_score(knn, X_train, y_train, cv=20, scoring='accuracy')\n",
    "    cv_scores.append(scores.mean())"
   ]
  },
  {
   "cell_type": "code",
   "execution_count": 68,
   "metadata": {},
   "outputs": [
    {
     "name": "stdout",
     "output_type": "stream",
     "text": [
      "[0.94663433139297, 0.9411641341602301, 0.9374555704709093, 0.9359753837053283, 0.9328130972578546, 0.9274205670394802, 0.9248309716901216, 0.9205844440993778, 0.9163369862992378, 0.9124290956233843]\n"
     ]
    }
   ],
   "source": [
    "print(cv_scores)"
   ]
  },
  {
   "cell_type": "code",
   "execution_count": 53,
   "metadata": {},
   "outputs": [
    {
     "name": "stdout",
     "output_type": "stream",
     "text": [
      "1\n"
     ]
    }
   ],
   "source": [
    "# Misclassification and Determining best k\n",
    "Mean_square_error = [1 - x for x in cv_scores]\n",
    "optimal_k = k_values[Mean_square_error.index(min(Mean_square_error))]\n",
    "print(optimal_k)"
   ]
  },
  {
   "cell_type": "code",
   "execution_count": 69,
   "metadata": {
    "collapsed": true
   },
   "outputs": [],
   "source": [
    "#Building model with optimum k\n",
    "knn_optimal = KNeighborsClassifier(n_neighbors=optimal_k,algorithm='kd_tree',metric='euclidean',p=0,weights='uniform',leaf_size=20)\n",
    "knn_optimal.fit(X_train, y_train)\n",
    "pred = knn_optimal.predict(X_test)"
   ]
  },
  {
   "cell_type": "code",
   "execution_count": 70,
   "metadata": {},
   "outputs": [
    {
     "name": "stdout",
     "output_type": "stream",
     "text": [
      "\n",
      "The accuracy of the knn classifier for k = 1 is 94.950000%\n"
     ]
    }
   ],
   "source": [
    "#Accuracy,Confusion matrix,Classification report\n",
    "acc=accuracy_score(y_test, pred,normalize=True)* float(100)\n",
    "conf_mat = confusion_matrix(y_test, pred)\n",
    "report = classification_report(y_test, pred)\n",
    "print('\\nThe accuracy of the knn classifier for k = %d is %f%%' % (optimal_k, acc))"
   ]
  }
 ],
 "metadata": {
  "kernelspec": {
   "display_name": "Python 3",
   "language": "python",
   "name": "python3"
  },
  "language_info": {
   "codemirror_mode": {
    "name": "ipython",
    "version": 3
   },
   "file_extension": ".py",
   "mimetype": "text/x-python",
   "name": "python",
   "nbconvert_exporter": "python",
   "pygments_lexer": "ipython3",
   "version": "3.6.2"
  }
 },
 "nbformat": 4,
 "nbformat_minor": 2
}
